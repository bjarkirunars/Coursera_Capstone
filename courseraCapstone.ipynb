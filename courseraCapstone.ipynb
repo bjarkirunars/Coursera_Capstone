This is a Jupyter notebook that will mainly be used for the Capstone Project
in Coursera IBM Data Science Specialization.

import pandas as pd
import numpy as np

print("Hello Capstone Project Course!")
